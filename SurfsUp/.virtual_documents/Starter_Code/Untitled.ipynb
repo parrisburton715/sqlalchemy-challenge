from flask import Flask, jsonify
import sqlalchemy
from sqlalchemy.ext.automap import automap_base
from sqlalchemy.orm import Session


app = Flask(__name__)


@app.route('/')
def homepage():
    return """
    Welcome to the Climate Analysis API!

    Available Routes:
    - /api/v1.0/precipitation
    - /api/v1.0/stations
    - /api/v1.0/tobs
    - /api/v1.0/start_date
    - /api/v1.0/start_date/end_date
    """


@app.route('/api/v1.0/precipitation')
def precipitation():
    # Your code to retrieve precipitation data goes here
    return jsonify(precipitation_data)


@app.route('/api/v1.0/stations')
def stations():
    # Your code to retrieve station data goes here
    return jsonify(station_data)


@app.route('/api/v1.0/tobs')
def tobs():
    # Your code to retrieve TOBs data goes here
    return jsonify(tobs_data)


@app.route('/api/v1.0/<start_date>')
def temperature_start(start_date):
    # Your code to retrieve temperature data from start date goes here
    return jsonify(temperature_data)


@app.route('/api/v1.0/<start_date>/<end_date>')
def temperature_start_end(start_date, end_date):
    # Your code to retrieve temperature data within date range goes here
    return jsonify(temperature_data)



